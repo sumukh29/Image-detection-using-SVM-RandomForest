{
 "cells": [
  {
   "cell_type": "code",
   "execution_count": null,
   "id": "d56f5c1a",
   "metadata": {},
   "outputs": [],
   "source": [
    "import os\n",
    "import cv2\n",
    "import numpy as np\n",
    "from sklearn.model_selection import train_test_split\n",
    "from sklearn.svm import SVC\n",
    "from sklearn.ensemble import RandomForestClassifier\n",
    "from sklearn.metrics import accuracy_score\n",
    "import matplotlib.pyplot as plt"
   ]
  },
  {
   "cell_type": "code",
   "execution_count": null,
   "id": "24cd5fdf",
   "metadata": {},
   "outputs": [],
   "source": [
    "dataset_path = \"/Users/sumukh/Downloads/data\"  \n",
    "categories = [\"Cat\", \"Dog\"]\n",
    "img_size = 100 "
   ]
  },
  {
   "cell_type": "code",
   "execution_count": null,
   "id": "4374f330",
   "metadata": {},
   "outputs": [
    {
     "name": "stdout",
     "output_type": "stream",
     "text": [
      "Dataset loaded: 1152 samples\n"
     ]
    }
   ],
   "source": [
    "def load_images():\n",
    "    data = []\n",
    "    labels = []\n",
    "    for label, category in enumerate(categories):\n",
    "        folder_path = os.path.join(dataset_path, category)\n",
    "        for filename in os.listdir(folder_path):\n",
    "            img_path = os.path.join(folder_path, filename)\n",
    "            try:\n",
    "                img = cv2.imread(img_path)\n",
    "                img = cv2.resize(img, (img_size, img_size))\n",
    "                img = img.flatten()  # Convert to 1D array\n",
    "                data.append(img)\n",
    "                labels.append(label)\n",
    "            except:\n",
    "                pass\n",
    "    return np.array(data), np.array(labels)\n",
    "\n",
    "X, y = load_images()\n",
    "print(f\"Dataset loaded: {len(X)} samples\")"
   ]
  },
  {
   "cell_type": "code",
   "execution_count": null,
   "id": "a320f6bc",
   "metadata": {},
   "outputs": [],
   "source": [
    "X_train, X_test, y_train, y_test = train_test_split(X, y, test_size=0.2, random_state=0)"
   ]
  },
  {
   "cell_type": "code",
   "execution_count": null,
   "id": "1019ec6f",
   "metadata": {},
   "outputs": [
    {
     "name": "stdout",
     "output_type": "stream",
     "text": [
      "SVM Accuracy: 0.645021645021645\n"
     ]
    }
   ],
   "source": [
    "svm_model = SVC(kernel='linear')\n",
    "svm_model.fit(X_train, y_train)\n",
    "svm_pred = svm_model.predict(X_test)\n",
    "print(\"SVM Accuracy:\", accuracy_score(y_test, svm_pred))"
   ]
  },
  {
   "cell_type": "code",
   "execution_count": null,
   "id": "0ecded6d",
   "metadata": {},
   "outputs": [
    {
     "name": "stdout",
     "output_type": "stream",
     "text": [
      "Random Forest Accuracy: 0.6493506493506493\n"
     ]
    }
   ],
   "source": [
    "rf_model = RandomForestClassifier(n_estimators=100)\n",
    "rf_model.fit(X_train, y_train)\n",
    "rf_pred = rf_model.predict(X_test)\n",
    "print(\"Random Forest Accuracy:\", accuracy_score(y_test, rf_pred))"
   ]
  },
  {
   "cell_type": "code",
   "execution_count": null,
   "id": "3193f70d",
   "metadata": {},
   "outputs": [],
   "source": [
    "def predict_image(img_path, model):\n",
    "    try:\n",
    "        img = cv2.imread(img_path)\n",
    "        img = cv2.resize(img, (img_size, img_size))\n",
    "        img = img.flatten().reshape(1, -1)\n",
    "        pred = model.predict(img)[0]\n",
    "        return categories[pred]\n",
    "    except:\n",
    "        return \"None\"\n"
   ]
  },
  {
   "cell_type": "code",
   "execution_count": null,
   "id": "f7733ce8",
   "metadata": {},
   "outputs": [
    {
     "name": "stdout",
     "output_type": "stream",
     "text": [
      "SVM Prediction: Dog\n",
      "Random Forest Prediction: Dog\n"
     ]
    }
   ],
   "source": [
    "new_img_path = \"/Users/sumukh/Downloads/Dog_Breeds.jpg\"  \n",
    "print(\"SVM Prediction:\", predict_image(new_img_path, svm_model))\n",
    "print(\"Random Forest Prediction:\", predict_image(new_img_path, rf_model))"
   ]
  },
  {
   "cell_type": "code",
   "execution_count": null,
   "id": "a6c7ab1a",
   "metadata": {},
   "outputs": [
    {
     "data": {
      "image/png": "[encoded data removed]",
      "text/plain": [
       "<Figure size 800x600 with 2 Axes>"
      ]
     },
     "metadata": {},
     "output_type": "display_data"
    }
   ],
   "source": [
    "from sklearn.metrics import confusion_matrix\n",
    "import seaborn as sns\n",
    "import matplotlib.pyplot as plt\n",
    "def plot_confusion_matrix(y_true, y_pred):\n",
    "    cm = confusion_matrix(y_true, y_pred)\n",
    "    plt.figure(figsize=(8, 6))\n",
    "    sns.heatmap(cm, annot=True, fmt='d', cmap='Blues', xticklabels=categories, yticklabels=categories)\n",
    "    plt.xlabel('Predicted')\n",
    "    plt.ylabel('True')\n",
    "    plt.title('Confusion Matrix')\n",
    "    plt.show()\n",
    "plot_confusion_matrix(y_test, rf_pred)"
   ]
  },
  {
   "cell_type": "code",
   "execution_count": 20,
   "id": "d4c0c79b",
   "metadata": {},
   "outputs": [
    {
     "name": "stdout",
     "output_type": "stream",
     "text": [
      "SVM Train Accuracy: 1.00\n",
      "SVM Test Accuracy: 0.65\n",
      "RF Train Accuracy: 1.00\n",
      "RF Test Accuracy: 0.65\n"
     ]
    }
   ],
   "source": [
    "svm_train_accuracy = accuracy_score(y_train, svm_model.predict(X_train))\n",
    "svm_test_accuracy = accuracy_score(y_test, svm_pred)\n",
    "print(f\"SVM Train Accuracy: {svm_train_accuracy:.2f}\")\n",
    "print(f\"SVM Test Accuracy: {svm_test_accuracy:.2f}\")\n",
    "\n",
    "rf_train_accuracy = accuracy_score(y_train, rf_model.predict(X_train))\n",
    "rf_test_accuracy = accuracy_score(y_test, rf_pred)\n",
    "print(f\"RF Train Accuracy: {rf_train_accuracy:.2f}\")\n",
    "print(f\"RF Test Accuracy: {rf_test_accuracy:.2f}\")"
   ]
  }
 ],
 "metadata": {
  "kernelspec": {
   "display_name": "Python 3",
   "language": "python",
   "name": "python3"
  },
  "language_info": {
   "codemirror_mode": {
    "name": "ipython",
    "version": 3
   },
   "file_extension": ".py",
   "mimetype": "text/x-python",
   "name": "python",
   "nbconvert_exporter": "python",
   "pygments_lexer": "ipython3",
   "version": "3.12.7"
  }
 },
 "nbformat": 4,
 "nbformat_minor": 5
}
